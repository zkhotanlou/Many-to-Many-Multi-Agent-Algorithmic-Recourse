{
 "cells": [
  {
   "cell_type": "code",
   "execution_count": 1,
   "metadata": {},
   "outputs": [],
   "source": [
    "import gurobipy as gp\n",
    "from gurobipy import GRB\n",
    "import random\n",
    "import math\n",
    "import numpy as np"
   ]
  },
  {
   "cell_type": "markdown",
   "metadata": {},
   "source": [
    "### Data Setup"
   ]
  },
  {
   "cell_type": "code",
   "execution_count": null,
   "metadata": {},
   "outputs": [
    {
     "name": "stdout",
     "output_type": "stream",
     "text": [
      "f_j(x_0) for bank 0: -9.893879712277338\n",
      "f_j(x_0) for bank 1: -10.09642948795008\n",
      "f_j(x_1) for bank 0: -12.801881732034596\n",
      "f_j(x_1) for bank 1: -10.057284397685933\n",
      "f_j(x_2) for bank 0: -6.419528614167854\n",
      "f_j(x_2) for bank 1: -5.995040257337555\n",
      "Seeker 3 is approved by bank 0, f_j(x_3) = 3.582867831987862. Replacing feature vector.\n",
      "New features for seeker 3: [0.15945136 5.41781486 1.17351884]\n",
      "f_j(x_3) for bank 0: 3.582867831987862\n",
      "f_j(x_3) for bank 1: -9.16303015962795\n",
      "f_j(x_4) for bank 0: -15.201330359471008\n",
      "f_j(x_4) for bank 1: -16.23941285510294\n"
     ]
    }
   ],
   "source": [
    "random.seed(42) \n",
    "n = 100       # number of seekers\n",
    "m = 10       # number of banks\n",
    "d = 3       # dimension of the feature vector\n",
    "beta = 0.5  # scaling parameter for the exponential transformation\n",
    "\n",
    "# Create dummy multi-dimensional features for seekers.\n",
    "seekers = {i: {'features': np.random.uniform(0, 10, d)} for i in range(n)}\n",
    "\n",
    "# Define each bank's classifier parameters.\n",
    "banks = {}\n",
    "for j in range(m):\n",
    "    w_j = np.random.uniform(0.5, 2.0, d)  # weight vector with random values\n",
    "    # To ensure rejection, make the bias negative enough so that all f_j(x_i) < 0\n",
    "    b_j = -np.abs(np.random.uniform(15, 20))  # Set a large negative bias\n",
    "    banks[j] = {'w': w_j, 'b': b_j}\n",
    "\n",
    "# Ensure all seekers are rejected by all banks\n",
    "for i in range(n):\n",
    "    for j in range(m):\n",
    "        # Calculate f_j(x_i) = w_j . x_i + b_j for each bank-seeker pair\n",
    "        f_j_xi = np.dot(banks[j]['w'], seekers[i]['features']) + banks[j]['b']\n",
    "        \n",
    "        # Check if the seeker is not rejected by the bank (i.e., f_j(x_i) >= 0)\n",
    "        if f_j_xi >= 0:\n",
    "            print(f\"Seeker {i} is approved by bank {j}, f_j(x_{i}) = {f_j_xi}. Replacing feature vector.\")\n",
    "            \n",
    "            # Replace the seeker's feature vector to ensure rejection\n",
    "            # Set the new feature vector to ensure f_j(x_i) < 0\n",
    "            new_features = np.random.uniform(0, 10, d)\n",
    "            while np.dot(banks[j]['w'], new_features) + banks[j]['b'] >= 0:\n",
    "                new_features = np.random.uniform(0, 10, d)  # keep generating until rejected\n",
    "            \n",
    "            seekers[i]['features'] = new_features  # Update feature vector to the new one\n",
    "            print(f\"New features for seeker {i}: {new_features}\")\n",
    "        \n",
    "        # Print the current f_j(x_i) value to verify rejection\n",
    "        print(f\"f_j(x_{i}) for bank {j}: {f_j_xi}\")\n",
    "\n",
    "capacity = {0: 1, 1: 2}  # Example bank capacities"
   ]
  },
  {
   "cell_type": "markdown",
   "metadata": {},
   "source": [
    "### Recourse Cost and Weight Functions"
   ]
  },
  {
   "cell_type": "code",
   "execution_count": 95,
   "metadata": {},
   "outputs": [],
   "source": [
    "def recourse_cost(seeker, bank):\n",
    "    \"\"\"\n",
    "    Computes the minimum change required for a seeker to be approved by a bank.\n",
    "    For a feature vector x and a linear classifier f(x)=w.x+b,\n",
    "    the minimal recourse cost (L2 norm) is given by:\n",
    "        cost = max(0, (- (w.x + b)) / ||w||)\n",
    "    \"\"\"\n",
    "    x = seeker['features']\n",
    "    w = bank['w']\n",
    "    b = bank['b']\n",
    "    f_x = np.dot(w, x) + b\n",
    "    norm_w = np.linalg.norm(w)\n",
    "    cost = (-f_x) / norm_w\n",
    "    return max(0, cost)\n",
    "\n",
    "def weight_from_cost(cost, beta):\n",
    "    \"\"\"\n",
    "    Transforms the cost into a weight using the exponential transformation.\n",
    "    \"\"\"\n",
    "    return math.exp(-beta * cost)\n",
    "\n",
    "# Compute recourse cost and corresponding weight for each (seeker, bank) pair.\n",
    "costs = {}\n",
    "weights = {}\n",
    "for i in range(n):\n",
    "    for j in range(m):\n",
    "        cost_ij = recourse_cost(seekers[i], banks[j])\n",
    "        costs[i, j] = cost_ij\n",
    "        weights[i, j] = weight_from_cost(cost_ij, beta)"
   ]
  },
  {
   "cell_type": "markdown",
   "metadata": {},
   "source": [
    "### Gurobi Model Setup"
   ]
  },
  {
   "cell_type": "code",
   "execution_count": 97,
   "metadata": {},
   "outputs": [
    {
     "name": "stdout",
     "output_type": "stream",
     "text": [
      "Gurobi Optimizer version 12.0.1 build v12.0.1rc0 (win64 - Windows 11.0 (22631.2))\n",
      "\n",
      "CPU model: Intel(R) Core(TM) i7-8565U CPU @ 1.80GHz, instruction set [SSE2|AVX|AVX2]\n",
      "Thread count: 4 physical cores, 8 logical processors, using up to 8 threads\n",
      "\n",
      "Optimize a model with 7 rows, 10 columns and 20 nonzeros\n",
      "Model fingerprint: 0x4796b7bf\n",
      "Variable types: 0 continuous, 10 integer (10 binary)\n",
      "Coefficient statistics:\n",
      "  Matrix range     [1e+00, 1e+00]\n",
      "  Objective range  [2e-02, 3e-01]\n",
      "  Bounds range     [1e+00, 1e+00]\n",
      "  RHS range        [1e+00, 2e+00]\n",
      "Found heuristic solution: objective 0.4633141\n",
      "Presolve time: 0.00s\n",
      "Presolved: 7 rows, 10 columns, 20 nonzeros\n",
      "Variable types: 0 continuous, 10 integer (10 binary)\n",
      "\n",
      "Root relaxation: objective 4.860379e-01, 4 iterations, 0.00 seconds (0.00 work units)\n",
      "\n",
      "    Nodes    |    Current Node    |     Objective Bounds      |     Work\n",
      " Expl Unexpl |  Obj  Depth IntInf | Incumbent    BestBd   Gap | It/Node Time\n",
      "\n",
      "*    0     0               0       0.4860379    0.48604  0.00%     -    0s\n",
      "\n",
      "Explored 1 nodes (4 simplex iterations) in 0.03 seconds (0.00 work units)\n",
      "Thread count was 8 (of 8 available processors)\n",
      "\n",
      "Solution count 2: 0.486038 0.463314 \n",
      "No other solutions better than 0.486038\n",
      "\n",
      "Optimal solution found (tolerance 1.00e-04)\n",
      "Best objective 4.860378525580e-01, best bound 4.860378525580e-01, gap 0.0000%\n"
     ]
    }
   ],
   "source": [
    "model = gp.Model(\"LoanAssignment_Recourse_MultiDim\")\n",
    "\n",
    "# Create binary decision variables x[i,j] indicating if seeker i is assigned to bank j.\n",
    "z = {}\n",
    "for i in range(n):\n",
    "    for j in range(m):\n",
    "        z[i, j] = model.addVar(vtype=GRB.BINARY, name=f\"z_{i}_{j}\")\n",
    "\n",
    "# Set the objective: maximize total weight of the assignments.\n",
    "model.setObjective(gp.quicksum(weights[i, j] * z[i, j] for i in range(n) for j in range(m)), GRB.MAXIMIZE)\n",
    "\n",
    "# Constraints:\n",
    "# 1. Each seeker is assigned to at most one bank.\n",
    "for i in range(n):\n",
    "    model.addConstr(gp.quicksum(z[i, j] for j in range(m)) <= 1, name=f\"seeker_{i}\")\n",
    "\n",
    "# 2. Each bank's assignments do not exceed its capacity.\n",
    "for j in range(m):\n",
    "    model.addConstr(gp.quicksum(z[i, j] for i in range(n)) <= capacity[j], name=f\"bank_{j}\")\n",
    "\n",
    "# Optimize the model.\n",
    "model.optimize()\n",
    "\n"
   ]
  },
  {
   "cell_type": "markdown",
   "metadata": {},
   "source": [
    "### Output the Solution and Recourse Recommendations"
   ]
  },
  {
   "cell_type": "code",
   "execution_count": 98,
   "metadata": {},
   "outputs": [
    {
     "name": "stdout",
     "output_type": "stream",
     "text": [
      "\n",
      "Optimal assignment and recommended recourse actions:\n",
      "Seeker 0 (features=[1.35867547 3.93695308 1.43943149]) assigned to Bank 0 (classifier: w=[1.45936863 1.59361342 0.58684098], b=-19.00)\n",
      "  Recourse cost (minimal change required): 4.42\n",
      "Seeker 2 (features=[1.98946701 4.68180837 3.76848206]) assigned to Bank 1 (classifier: w=[1.06205029 1.65962486 0.94256285], b=-19.43)\n",
      "  Recourse cost (minimal change required): 2.74\n",
      "Seeker 3 (features=[0.15945136 5.41781486 1.17351884]) assigned to Bank 1 (classifier: w=[1.06205029 1.65962486 0.94256285], b=-19.43)\n",
      "  Recourse cost (minimal change required): 4.20\n"
     ]
    }
   ],
   "source": [
    "if model.status == GRB.OPTIMAL:\n",
    "    print(\"\\nOptimal assignment and recommended recourse actions:\")\n",
    "    for i in range(n):\n",
    "        for j in range(m):\n",
    "            if z[i, j].X > 0.5:\n",
    "                action = costs[i, j]  # minimal change required\n",
    "                print(f\"Seeker {i} (features={seekers[i]['features']}) assigned to Bank {j} \"\n",
    "                      f\"(classifier: w={banks[j]['w']}, b={banks[j]['b']:.2f})\")\n",
    "                print(f\"  Recourse cost (minimal change required): {action:.2f}\")\n",
    "                # print(f\"  Transformed weight: {weights[i, j]:.4f}\\n\")\n",
    "else:\n",
    "    print(\"No optimal solution found.\")"
   ]
  },
  {
   "cell_type": "markdown",
   "metadata": {},
   "source": [
    "### Global Optimum"
   ]
  },
  {
   "cell_type": "code",
   "execution_count": 101,
   "metadata": {},
   "outputs": [
    {
     "name": "stdout",
     "output_type": "stream",
     "text": [
      "Global Optimum (without capacity constraints): 0.6196269818527836\n"
     ]
    }
   ],
   "source": [
    "# Compute the global optimum (sum of maximum weights for all seekers without any capacity constraints)\n",
    "global_optimum = 0\n",
    "\n",
    "# For each seeker, choose the bank with the highest weight (best assignment) and sum them\n",
    "for i in range(n):\n",
    "    max_weight = max(weights[i, j] for j in range(m))  # Find the maximum weight for seeker i\n",
    "    global_optimum += max_weight  # Add it to the global optimum sum\n",
    "\n",
    "print(f\"Global Optimum (without capacity constraints): {global_optimum}\")"
   ]
  },
  {
   "cell_type": "code",
   "execution_count": null,
   "metadata": {},
   "outputs": [],
   "source": []
  }
 ],
 "metadata": {
  "kernelspec": {
   "display_name": "Python 3",
   "language": "python",
   "name": "python3"
  },
  "language_info": {
   "codemirror_mode": {
    "name": "ipython",
    "version": 3
   },
   "file_extension": ".py",
   "mimetype": "text/x-python",
   "name": "python",
   "nbconvert_exporter": "python",
   "pygments_lexer": "ipython3",
   "version": "3.12.9"
  }
 },
 "nbformat": 4,
 "nbformat_minor": 2
}
